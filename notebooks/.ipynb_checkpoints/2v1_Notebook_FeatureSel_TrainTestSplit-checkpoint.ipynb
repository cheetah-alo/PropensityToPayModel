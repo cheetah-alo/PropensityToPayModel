{
 "cells": [
  {
   "cell_type": "markdown",
   "id": "3dbe3cf0-9fa1-461d-9578-932a1bc87ce4",
   "metadata": {},
   "source": [
    "# <span style=\"color:#993063\"> Risk Analysisis on Debt - Intrum <a name=\"id3\"></a>\n",
    "\n",
    "Author: Jacky Barraza\n",
    "\n",
    "Notebook 2/3\n",
    "    \n",
    "The following report describes both my approach, method, and results to address the Intrum – Home Quiz Challenge. \n",
    "    \n",
    "This is the first notebook where I worked on the data preparation and data exploration, before to"
   ]
  },
  {
   "cell_type": "markdown",
   "id": "7b7c4d55-8efd-4333-bc28-3b2c0ec72922",
   "metadata": {},
   "source": [
    "#  <span style=\"color:#E8846F\"> Setting the tools <a name=\"id3\"></a>"
   ]
  },
  {
   "cell_type": "markdown",
   "id": "f123ebb9-715e-4634-aa4c-b8b387a8d867",
   "metadata": {},
   "source": [
    "### Paths"
   ]
  },
  {
   "cell_type": "code",
   "execution_count": 1,
   "id": "1f28ee56-8d3d-4a5b-a978-c015fdfe596e",
   "metadata": {},
   "outputs": [
    {
     "name": "stdout",
     "output_type": "stream",
     "text": [
      "My current working directory is /Users/jackyb/Projects/Lyon_Ds/CreditRiskPayment_JB/notebooks\n"
     ]
    }
   ],
   "source": [
    "import os\n",
    "print(\"My current working directory is\", os.getcwd())"
   ]
  },
  {
   "cell_type": "code",
   "execution_count": 16,
   "id": "fdf8dea5-5bbe-4f3a-bbfb-c029b7af31a0",
   "metadata": {},
   "outputs": [
    {
     "data": {
      "text/plain": [
       "'/Users/jackyb/Projects/Lyon_Ds/CreditRiskPayment_JB/data/processed/df_clean.csv'"
      ]
     },
     "execution_count": 16,
     "metadata": {},
     "output_type": "execute_result"
    }
   ],
   "source": [
    "config_input = '/Users/jackyb/Projects/Lyon_Ds/CreditRiskPayment_JB/data/processed/'\n",
    "\n",
    "config_output = '/Users/jackyb/Projects/Lyon_Ds/CreditRiskPayment_JB/data/output/'\n",
    "\n",
    "DATA_INTRUM = config_input + \"df_clean.csv\"\n",
    "DATA_INTRUM"
   ]
  },
  {
   "cell_type": "markdown",
   "id": "ac34baf9-c675-438a-944c-7b9ce236240a",
   "metadata": {},
   "source": [
    "### Libraries"
   ]
  },
  {
   "cell_type": "code",
   "execution_count": 5,
   "id": "a4bd64f3-0305-4125-82cf-ae25c8086b02",
   "metadata": {},
   "outputs": [],
   "source": [
    "import pandas\n",
    "import numpy\n",
    "import matplotlib.pyplot as plt\n",
    "import seaborn as sns\n",
    "from numpy import savetxt\n",
    "\n",
    "from sklearn.model_selection import train_test_split\n",
    "\n",
    "\n",
    "import warnings \n",
    "pandas.set_option('display.max_columns', 1000)\n",
    "pandas.set_option('display.max_rows', 1000)\n",
    "warnings.filterwarnings('ignore')"
   ]
  },
  {
   "cell_type": "markdown",
   "id": "79ba95ba-ec88-4140-9a66-c020c6d31247",
   "metadata": {},
   "source": [
    "### General Variables"
   ]
  },
  {
   "cell_type": "code",
   "execution_count": 43,
   "id": "538de79e-0beb-418c-9d61-c6f50a7375aa",
   "metadata": {},
   "outputs": [],
   "source": [
    "#general\n",
    "PERCENTILE = [.25, .50, .75]\n",
    "INCLUDE = ['object', 'float', 'int']\n",
    "NUMERICS = ['int16', 'int32', 'int64', 'float16', 'float32', 'float64']\n",
    "\n",
    "\n",
    "#palette colors\n",
    "SETCOL = [\"windows blue\", \"amber\", \"greyish\", \"faded green\", \"dusty purple\"]\n",
    "SETCOL1 = [\"#6dccda\", \"#cdcc5d\", \"#a2a2a2\", \"#ed97ca\", \"#a8786e\", \"#ad8bc9\", \"#ed665d\", \"#67bf5c\", \"#ff9e4a\", \"#729ece\"]\n",
    "SETCOL2 = [\"#ed665d\", \"#67bf5c\", \"#ff9e4a\", \"#729ece\", \"#ad8bc9\"]\n",
    "SETCOL3 = [ \"#729ece\", \"#67bf5c\", \"#ff9e4a\", \"#ad8bc9\", \"#ed665d\"]\n",
    "SETCOL4 = [ \"#6dccda\", \"#ed97ca\", \"#729ece\", \"#ad8bc9\", \"#ff9e4a\"]"
   ]
  },
  {
   "cell_type": "markdown",
   "id": "096870fc-2e0d-4cbc-aedd-e4794372cdba",
   "metadata": {},
   "source": [
    "### Dataframe Definition"
   ]
  },
  {
   "cell_type": "code",
   "execution_count": 21,
   "id": "09944804-4bf1-4899-879e-f3dc0783f26d",
   "metadata": {},
   "outputs": [],
   "source": [
    "def dataframe_load_csv(filename):\n",
    "    \"\"\"\n",
    "    Loading a csv as pandas dataframe\n",
    "    :param filename: path where the file is located\n",
    "    :return: a dataframe\n",
    "    \"\"\"\n",
    "    df = (pandas.read_csv(filename, encoding='utf-8-sig'))\n",
    "    return df"
   ]
  },
  {
   "cell_type": "code",
   "execution_count": 22,
   "id": "64d64c7e-cccc-4876-bf9e-f3afe84391fb",
   "metadata": {},
   "outputs": [
    {
     "data": {
      "text/plain": [
       "'/Users/jackyb/Projects/Lyon_Ds/CreditRiskPayment_JB/data/processed/df_clea.csv'"
      ]
     },
     "execution_count": 22,
     "metadata": {},
     "output_type": "execute_result"
    }
   ],
   "source": [
    "DATASET"
   ]
  },
  {
   "cell_type": "code",
   "execution_count": 23,
   "id": "4aef2924-e136-41a8-83cf-c951cbd9333a",
   "metadata": {},
   "outputs": [],
   "source": [
    "df = dataframe_load_csv(DATA_INTRUM)"
   ]
  },
  {
   "cell_type": "code",
   "execution_count": 24,
   "id": "0718d255-b02d-4f3c-a8d5-6e43901ac7ac",
   "metadata": {},
   "outputs": [
    {
     "data": {
      "text/html": [
       "<div>\n",
       "<style scoped>\n",
       "    .dataframe tbody tr th:only-of-type {\n",
       "        vertical-align: middle;\n",
       "    }\n",
       "\n",
       "    .dataframe tbody tr th {\n",
       "        vertical-align: top;\n",
       "    }\n",
       "\n",
       "    .dataframe thead th {\n",
       "        text-align: right;\n",
       "    }\n",
       "</style>\n",
       "<table border=\"1\" class=\"dataframe\">\n",
       "  <thead>\n",
       "    <tr style=\"text-align: right;\">\n",
       "      <th></th>\n",
       "      <th>kdate</th>\n",
       "      <th>ct090</th>\n",
       "      <th>ap090</th>\n",
       "      <th>c0039</th>\n",
       "      <th>c0044</th>\n",
       "      <th>d0031</th>\n",
       "      <th>b0007</th>\n",
       "      <th>d0009</th>\n",
       "      <th>c0031</th>\n",
       "      <th>a8404</th>\n",
       "      <th>c0019</th>\n",
       "      <th>d0027</th>\n",
       "      <th>c9008</th>\n",
       "      <th>d2112</th>\n",
       "      <th>d0012</th>\n",
       "      <th>c0015</th>\n",
       "      <th>month</th>\n",
       "    </tr>\n",
       "  </thead>\n",
       "  <tbody>\n",
       "    <tr>\n",
       "      <th>0</th>\n",
       "      <td>2017-08-12</td>\n",
       "      <td>0.0</td>\n",
       "      <td>0.0</td>\n",
       "      <td>K6622</td>\n",
       "      <td>1</td>\n",
       "      <td>2.0</td>\n",
       "      <td>0.00</td>\n",
       "      <td>238.38</td>\n",
       "      <td>2.0</td>\n",
       "      <td>0.18</td>\n",
       "      <td>98.0</td>\n",
       "      <td>0.0</td>\n",
       "      <td>49.0</td>\n",
       "      <td>0.0</td>\n",
       "      <td>1</td>\n",
       "      <td>222.69</td>\n",
       "      <td>8</td>\n",
       "    </tr>\n",
       "    <tr>\n",
       "      <th>1</th>\n",
       "      <td>2017-02-03</td>\n",
       "      <td>0.0</td>\n",
       "      <td>0.0</td>\n",
       "      <td>K6512</td>\n",
       "      <td>2</td>\n",
       "      <td>2.0</td>\n",
       "      <td>210.53</td>\n",
       "      <td>0.00</td>\n",
       "      <td>5.0</td>\n",
       "      <td>0.25</td>\n",
       "      <td>109.0</td>\n",
       "      <td>2.0</td>\n",
       "      <td>51.0</td>\n",
       "      <td>0.0</td>\n",
       "      <td>2</td>\n",
       "      <td>212.72</td>\n",
       "      <td>2</td>\n",
       "    </tr>\n",
       "    <tr>\n",
       "      <th>2</th>\n",
       "      <td>2017-02-17</td>\n",
       "      <td>0.0</td>\n",
       "      <td>0.0</td>\n",
       "      <td>K6512</td>\n",
       "      <td>3</td>\n",
       "      <td>1.0</td>\n",
       "      <td>20.00</td>\n",
       "      <td>0.00</td>\n",
       "      <td>2.0</td>\n",
       "      <td>0.00</td>\n",
       "      <td>748.0</td>\n",
       "      <td>0.0</td>\n",
       "      <td>48.0</td>\n",
       "      <td>0.0</td>\n",
       "      <td>3</td>\n",
       "      <td>56.84</td>\n",
       "      <td>2</td>\n",
       "    </tr>\n",
       "    <tr>\n",
       "      <th>3</th>\n",
       "      <td>2017-09-18</td>\n",
       "      <td>0.0</td>\n",
       "      <td>0.0</td>\n",
       "      <td>K6622</td>\n",
       "      <td>4</td>\n",
       "      <td>1.0</td>\n",
       "      <td>20.00</td>\n",
       "      <td>54.14</td>\n",
       "      <td>3.0</td>\n",
       "      <td>1.00</td>\n",
       "      <td>8.0</td>\n",
       "      <td>0.0</td>\n",
       "      <td>27.0</td>\n",
       "      <td>0.0</td>\n",
       "      <td>4</td>\n",
       "      <td>463.15</td>\n",
       "      <td>9</td>\n",
       "    </tr>\n",
       "  </tbody>\n",
       "</table>\n",
       "</div>"
      ],
      "text/plain": [
       "        kdate  ct090  ap090  c0039  c0044  d0031   b0007   d0009  c0031  \\\n",
       "0  2017-08-12    0.0    0.0  K6622      1    2.0    0.00  238.38    2.0   \n",
       "1  2017-02-03    0.0    0.0  K6512      2    2.0  210.53    0.00    5.0   \n",
       "2  2017-02-17    0.0    0.0  K6512      3    1.0   20.00    0.00    2.0   \n",
       "3  2017-09-18    0.0    0.0  K6622      4    1.0   20.00   54.14    3.0   \n",
       "\n",
       "   a8404  c0019  d0027  c9008  d2112  d0012   c0015  month  \n",
       "0   0.18   98.0    0.0   49.0    0.0      1  222.69      8  \n",
       "1   0.25  109.0    2.0   51.0    0.0      2  212.72      2  \n",
       "2   0.00  748.0    0.0   48.0    0.0      3   56.84      2  \n",
       "3   1.00    8.0    0.0   27.0    0.0      4  463.15      9  "
      ]
     },
     "execution_count": 24,
     "metadata": {},
     "output_type": "execute_result"
    }
   ],
   "source": [
    "df.head(4)"
   ]
  },
  {
   "cell_type": "code",
   "execution_count": 25,
   "id": "63849279-7cc1-43a8-8772-159d2ce81928",
   "metadata": {},
   "outputs": [
    {
     "data": {
      "text/plain": [
       "['kdate',\n",
       " 'ct090',\n",
       " 'ap090',\n",
       " 'c0039',\n",
       " 'c0044',\n",
       " 'd0031',\n",
       " 'b0007',\n",
       " 'd0009',\n",
       " 'c0031',\n",
       " 'a8404',\n",
       " 'c0019',\n",
       " 'd0027',\n",
       " 'c9008',\n",
       " 'd2112',\n",
       " 'd0012',\n",
       " 'c0015',\n",
       " 'month']"
      ]
     },
     "execution_count": 25,
     "metadata": {},
     "output_type": "execute_result"
    }
   ],
   "source": [
    "VAR = list(df.columns)\n",
    "VAR"
   ]
  },
  {
   "cell_type": "code",
   "execution_count": 26,
   "id": "dbbb465c-ed16-4978-9a83-9d7a0f36ec5e",
   "metadata": {},
   "outputs": [],
   "source": [
    "def grouping_target(group):\n",
    "    if group ==  0:\n",
    "        return  0\n",
    "    else:\n",
    "        return 1"
   ]
  },
  {
   "cell_type": "code",
   "execution_count": 33,
   "id": "255a3c10-f5f7-4e8f-9356-a849ae311674",
   "metadata": {},
   "outputs": [],
   "source": [
    "df['target'] = df['ct090']"
   ]
  },
  {
   "cell_type": "code",
   "execution_count": 34,
   "id": "8420796d-58e9-4006-b2a2-5b0bd84d38d7",
   "metadata": {},
   "outputs": [],
   "source": [
    "df1 = df.copy()\n",
    "df1['target'] = df['target'].apply(grouping_target)"
   ]
  },
  {
   "cell_type": "code",
   "execution_count": 35,
   "id": "6416edfd-1549-4acb-84fa-147aa07ab73b",
   "metadata": {},
   "outputs": [
    {
     "data": {
      "image/png": "[encoded data removed]",
      "text/plain": [
       "<Figure size 1296x360 with 1 Axes>"
      ]
     },
     "metadata": {},
     "output_type": "display_data"
    }
   ],
   "source": [
    "fig, ax = plt.subplots(figsize=(18, 5))\n",
    "sns.set(font_scale=1.8)\n",
    "sns.set_style('whitegrid')\n",
    "\n",
    "ax = sns.countplot(y=\"target\", data=df, alpha=0.6, palette=\"Set2\")\n",
    "plt.title('Distribucion del target')\n",
    "plt.xlabel('Numero de muestras')\n",
    "total = len(df['target'])\n",
    "for p in ax.patches:\n",
    "        percentage = '{:.1f}%'.format(100 * p.get_width()/total)\n",
    "        x = p.get_x() + p.get_width() + 0.02\n",
    "        y = p.get_y() + p.get_height()/2\n",
    "        ax.annotate(percentage, (x, y))\n",
    "\n",
    "plt.show()"
   ]
  },
  {
   "cell_type": "code",
   "execution_count": 36,
   "id": "56745fce-f99b-4051-84ff-47400e644992",
   "metadata": {},
   "outputs": [
    {
     "data": {
      "text/plain": [
       "Index(['kdate', 'ct090', 'ap090', 'c0039', 'c0044', 'd0031', 'b0007', 'd0009',\n",
       "       'c0031', 'a8404', 'c0019', 'd0027', 'c9008', 'd2112', 'd0012', 'c0015',\n",
       "       'month', 'target'],\n",
       "      dtype='object')"
      ]
     },
     "execution_count": 36,
     "metadata": {},
     "output_type": "execute_result"
    }
   ],
   "source": [
    "df.columns"
   ]
  },
  {
   "cell_type": "code",
   "execution_count": 38,
   "id": "19bdd401-9a7d-40d9-ace0-52d0459bd1a1",
   "metadata": {},
   "outputs": [
    {
     "data": {
      "text/plain": [
       "(30000, 16)"
      ]
     },
     "execution_count": 38,
     "metadata": {},
     "output_type": "execute_result"
    }
   ],
   "source": [
    "df_intrum = df.filter(['ap090', 'c0039', 'c0044', 'd0031', 'b0007', 'd0009',\n",
    "       'c0031', 'a8404', 'c0019', 'd0027', 'c9008', 'd2112', 'd0012', 'c0015',\n",
    "       'month', 'target'])\n",
    "df_intrum.shape"
   ]
  },
  {
   "cell_type": "code",
   "execution_count": 44,
   "id": "b5be0c70-9eb0-4427-8db9-a662a6fcc680",
   "metadata": {},
   "outputs": [],
   "source": [
    "def columns_as_list(df):\n",
    "    \"\"\"\n",
    "    Variables as a list by type\n",
    "    :param df: dataframe\n",
    "    :return: three list of variables\n",
    "    \"\"\"\n",
    "    all_var = list(df.columns)\n",
    "    print(\"----------------------------------------------------------------\")\n",
    "    print(\"List of all variables: \\n\")\n",
    "    print(all_var)\n",
    "    obj_var = list(df.select_dtypes(['object']).columns)\n",
    "    if obj_var: \n",
    "        print(\"----------------------------------------------------------------\")\n",
    "        print(\"List of object variabless: \\n\")\n",
    "        print(obj_var)\n",
    "    \n",
    "    num_var = list(df.select_dtypes(include=NUMERICS))\n",
    "    if num_var: \n",
    "        print(\"----------------------------------------------------------------\")\n",
    "        print(\"List of numeric variable: \\n\")\n",
    "        print(num_var)\n",
    "    \n",
    "    return all_var, obj_var, num_var "
   ]
  },
  {
   "cell_type": "code",
   "execution_count": 45,
   "id": "06b32c60-d3b6-456e-a383-e1d27a30850f",
   "metadata": {},
   "outputs": [
    {
     "name": "stdout",
     "output_type": "stream",
     "text": [
      "----------------------------------------------------------------\n",
      "List of all variables: \n",
      "\n",
      "['ap090', 'c0039', 'c0044', 'd0031', 'b0007', 'd0009', 'c0031', 'a8404', 'c0019', 'd0027', 'c9008', 'd2112', 'd0012', 'c0015', 'month', 'target']\n",
      "----------------------------------------------------------------\n",
      "List of object variabless: \n",
      "\n",
      "['c0039']\n",
      "----------------------------------------------------------------\n",
      "List of numeric variable: \n",
      "\n",
      "['ap090', 'c0044', 'd0031', 'b0007', 'd0009', 'c0031', 'a8404', 'c0019', 'd0027', 'c9008', 'd2112', 'd0012', 'c0015', 'month', 'target']\n"
     ]
    }
   ],
   "source": [
    "all_var_metadf, obj_var_metadf, num_var_metadf  = columns_as_list(df_intrum)"
   ]
  },
  {
   "cell_type": "markdown",
   "id": "f86b4148-ff32-4c9a-91d3-1050979d96f4",
   "metadata": {},
   "source": [
    "###  <span style=\"color:#67bf5c\"> Definicion de X y Y para los modelos <a name=\"id3\"></a>"
   ]
  },
  {
   "cell_type": "code",
   "execution_count": 39,
   "id": "672cce13-f4dd-4640-a930-60ebf58ae3de",
   "metadata": {},
   "outputs": [
    {
     "data": {
      "text/plain": [
       "(30000, 16)"
      ]
     },
     "execution_count": 39,
     "metadata": {},
     "output_type": "execute_result"
    }
   ],
   "source": [
    "df1_intrum = df_intrum.copy()\n",
    "df1_intrum.shape"
   ]
  },
  {
   "cell_type": "code",
   "execution_count": 46,
   "id": "7a059632-f821-42ca-8b13-106b4bb8be41",
   "metadata": {},
   "outputs": [
    {
     "data": {
      "text/html": [
       "<div>\n",
       "<style scoped>\n",
       "    .dataframe tbody tr th:only-of-type {\n",
       "        vertical-align: middle;\n",
       "    }\n",
       "\n",
       "    .dataframe tbody tr th {\n",
       "        vertical-align: top;\n",
       "    }\n",
       "\n",
       "    .dataframe thead th {\n",
       "        text-align: right;\n",
       "    }\n",
       "</style>\n",
       "<table border=\"1\" class=\"dataframe\">\n",
       "  <thead>\n",
       "    <tr style=\"text-align: right;\">\n",
       "      <th></th>\n",
       "      <th>ap090</th>\n",
       "      <th>c0044</th>\n",
       "      <th>d0031</th>\n",
       "      <th>b0007</th>\n",
       "      <th>d0009</th>\n",
       "      <th>c0031</th>\n",
       "      <th>a8404</th>\n",
       "      <th>c0019</th>\n",
       "      <th>d0027</th>\n",
       "      <th>c9008</th>\n",
       "      <th>d2112</th>\n",
       "      <th>d0012</th>\n",
       "      <th>c0015</th>\n",
       "      <th>month</th>\n",
       "      <th>target</th>\n",
       "    </tr>\n",
       "  </thead>\n",
       "  <tbody>\n",
       "    <tr>\n",
       "      <th>0</th>\n",
       "      <td>0.0</td>\n",
       "      <td>1</td>\n",
       "      <td>2.0</td>\n",
       "      <td>0.00</td>\n",
       "      <td>238.38</td>\n",
       "      <td>2.0</td>\n",
       "      <td>0.18</td>\n",
       "      <td>98.0</td>\n",
       "      <td>0.0</td>\n",
       "      <td>49.0</td>\n",
       "      <td>0.0</td>\n",
       "      <td>1</td>\n",
       "      <td>222.69</td>\n",
       "      <td>8</td>\n",
       "      <td>0.0</td>\n",
       "    </tr>\n",
       "    <tr>\n",
       "      <th>1</th>\n",
       "      <td>0.0</td>\n",
       "      <td>2</td>\n",
       "      <td>2.0</td>\n",
       "      <td>210.53</td>\n",
       "      <td>0.00</td>\n",
       "      <td>5.0</td>\n",
       "      <td>0.25</td>\n",
       "      <td>109.0</td>\n",
       "      <td>2.0</td>\n",
       "      <td>51.0</td>\n",
       "      <td>0.0</td>\n",
       "      <td>2</td>\n",
       "      <td>212.72</td>\n",
       "      <td>2</td>\n",
       "      <td>0.0</td>\n",
       "    </tr>\n",
       "    <tr>\n",
       "      <th>2</th>\n",
       "      <td>0.0</td>\n",
       "      <td>3</td>\n",
       "      <td>1.0</td>\n",
       "      <td>20.00</td>\n",
       "      <td>0.00</td>\n",
       "      <td>2.0</td>\n",
       "      <td>0.00</td>\n",
       "      <td>748.0</td>\n",
       "      <td>0.0</td>\n",
       "      <td>48.0</td>\n",
       "      <td>0.0</td>\n",
       "      <td>3</td>\n",
       "      <td>56.84</td>\n",
       "      <td>2</td>\n",
       "      <td>0.0</td>\n",
       "    </tr>\n",
       "    <tr>\n",
       "      <th>3</th>\n",
       "      <td>0.0</td>\n",
       "      <td>4</td>\n",
       "      <td>1.0</td>\n",
       "      <td>20.00</td>\n",
       "      <td>54.14</td>\n",
       "      <td>3.0</td>\n",
       "      <td>1.00</td>\n",
       "      <td>8.0</td>\n",
       "      <td>0.0</td>\n",
       "      <td>27.0</td>\n",
       "      <td>0.0</td>\n",
       "      <td>4</td>\n",
       "      <td>463.15</td>\n",
       "      <td>9</td>\n",
       "      <td>0.0</td>\n",
       "    </tr>\n",
       "  </tbody>\n",
       "</table>\n",
       "</div>"
      ],
      "text/plain": [
       "   ap090  c0044  d0031   b0007   d0009  c0031  a8404  c0019  d0027  c9008  \\\n",
       "0    0.0      1    2.0    0.00  238.38    2.0   0.18   98.0    0.0   49.0   \n",
       "1    0.0      2    2.0  210.53    0.00    5.0   0.25  109.0    2.0   51.0   \n",
       "2    0.0      3    1.0   20.00    0.00    2.0   0.00  748.0    0.0   48.0   \n",
       "3    0.0      4    1.0   20.00   54.14    3.0   1.00    8.0    0.0   27.0   \n",
       "\n",
       "   d2112  d0012   c0015  month  target  \n",
       "0    0.0      1  222.69      8     0.0  \n",
       "1    0.0      2  212.72      2     0.0  \n",
       "2    0.0      3   56.84      2     0.0  \n",
       "3    0.0      4  463.15      9     0.0  "
      ]
     },
     "execution_count": 46,
     "metadata": {},
     "output_type": "execute_result"
    }
   ],
   "source": [
    "df_num_var = df1_intrum.copy()\n",
    "df_num_var.drop(['c0039'], axis = 1, inplace = True)\n",
    "df_num_var.head(4)"
   ]
  },
  {
   "cell_type": "code",
   "execution_count": 48,
   "id": "af924322-72ff-413a-a324-fb738870745a",
   "metadata": {},
   "outputs": [],
   "source": [
    "df1_intrum.drop(['target'], axis =1, inplace=True)"
   ]
  },
  {
   "cell_type": "code",
   "execution_count": 49,
   "id": "9b0deb4b-f9bf-454e-9e46-1e86263a9bc2",
   "metadata": {},
   "outputs": [
    {
     "data": {
      "text/plain": [
       "(30000, 20)"
      ]
     },
     "execution_count": 49,
     "metadata": {},
     "output_type": "execute_result"
    }
   ],
   "source": [
    "df1_intrum_mdldu = pandas.get_dummies(df1_intrum)\n",
    "df1_intrum_mdldu.shape"
   ]
  },
  {
   "cell_type": "code",
   "execution_count": 51,
   "id": "e172aa9f-df8b-482c-9ba1-4a186991240c",
   "metadata": {},
   "outputs": [
    {
     "data": {
      "text/plain": [
       "['ap090',\n",
       " 'c0044',\n",
       " 'd0031',\n",
       " 'b0007',\n",
       " 'd0009',\n",
       " 'c0031',\n",
       " 'a8404',\n",
       " 'c0019',\n",
       " 'd0027',\n",
       " 'c9008',\n",
       " 'd2112',\n",
       " 'd0012',\n",
       " 'c0015',\n",
       " 'month',\n",
       " 'c0039_K6419',\n",
       " 'c0039_K6499',\n",
       " 'c0039_K6512',\n",
       " 'c0039_K6619',\n",
       " 'c0039_K6622',\n",
       " 'c0039_K_others']"
      ]
     },
     "execution_count": 51,
     "metadata": {},
     "output_type": "execute_result"
    }
   ],
   "source": [
    "feature_names = list(df1_intrum_mdldu.columns)\n",
    "feature_names"
   ]
  },
  {
   "cell_type": "markdown",
   "id": "1c471d05-f7fc-4fc6-a6ec-9bec21bb4cf0",
   "metadata": {},
   "source": [
    "####  <span style=\"color:#28BAE5\"> X y Y Arrays  <a name=\"id3\"></a>"
   ]
  },
  {
   "cell_type": "code",
   "execution_count": 53,
   "id": "fd9ff562-4d74-416c-a56a-66c62de8848d",
   "metadata": {},
   "outputs": [
    {
     "data": {
      "text/plain": [
       "((30000, 20), (30000,))"
      ]
     },
     "execution_count": 53,
     "metadata": {},
     "output_type": "execute_result"
    }
   ],
   "source": [
    "X = df1_intrum_mdldu[feature_names].values\n",
    "y = df_intrum['target'].values\n",
    "X.shape, y.shape"
   ]
  },
  {
   "cell_type": "markdown",
   "id": "7722bc68-8ffc-41d9-9ae3-a7ff7c3af9f8",
   "metadata": {},
   "source": [
    "####  <span style=\"color:#28BAE5\"> Variables Normalization<a name=\"id3\"></a>"
   ]
  },
  {
   "cell_type": "code",
   "execution_count": 54,
   "id": "5b3801d4-b65b-4426-8048-e9ac5d5297bc",
   "metadata": {},
   "outputs": [],
   "source": [
    "from sklearn.preprocessing import MinMaxScaler\n",
    "MMS = MinMaxScaler()\n",
    "X2 = MMS.fit_transform(X)"
   ]
  },
  {
   "cell_type": "markdown",
   "id": "943ae497-2b00-4c18-a2fd-d81113b7394a",
   "metadata": {},
   "source": [
    "###  <span style=\"color:#67bf5c\"> Feature Selection <a name=\"id3\"></a>"
   ]
  },
  {
   "cell_type": "markdown",
   "id": "22096ab4-bfde-431a-9c07-e9a87f467db0",
   "metadata": {},
   "source": [
    "####  <span style=\"color:#28BAE5\"> Selección univariante de características  <a name=\"id3\"></a>"
   ]
  },
  {
   "cell_type": "code",
   "execution_count": 56,
   "id": "26d491d1-ed89-481a-a65b-bf2a59aeab28",
   "metadata": {},
   "outputs": [
    {
     "data": {
      "text/plain": [
       "(30000, 20)"
      ]
     },
     "execution_count": 56,
     "metadata": {},
     "output_type": "execute_result"
    }
   ],
   "source": [
    "from sklearn.feature_selection import VarianceThreshold\n",
    "\n",
    "vt_feature_selector = VarianceThreshold(threshold=0)\n",
    "vt_feature_selector.fit(X2)\n",
    "df_var_select = df1_intrum_mdldu[df1_intrum_mdldu.columns[vt_feature_selector.get_support(indices=True)]]\n",
    "feature_names2 = df_var_select.columns.to_list()\n",
    "df_var_select.shape"
   ]
  },
  {
   "cell_type": "code",
   "execution_count": 57,
   "id": "493ac59b-861a-440c-9f20-0be8113e74f0",
   "metadata": {},
   "outputs": [
    {
     "data": {
      "image/png": "[encoded data removed]",
      "text/plain": [
       "<Figure size 1440x1080 with 1 Axes>"
      ]
     },
     "metadata": {},
     "output_type": "display_data"
    }
   ],
   "source": [
    "fig, ax = plt.subplots(figsize = (20, 15))\n",
    "\n",
    "sns.set(font_scale=2.2, palette=\"Set2\")\n",
    "ax.barh(feature_names2, vt_feature_selector.variances_)\n",
    "plt.show()"
   ]
  },
  {
   "cell_type": "markdown",
   "id": "f24a8bc2-73f7-4a2f-b122-71bdb3b07401",
   "metadata": {},
   "source": [
    "#### Observations:\n",
    "\n",
    "The variable c0015, ap090 and d009 have 0 variance and will be exclude of the model. Variables with a higher variance may contain more useful information. "
   ]
  },
  {
   "cell_type": "code",
   "execution_count": 59,
   "id": "47b8b95e-34f9-474f-b058-10bba2d703a9",
   "metadata": {},
   "outputs": [
    {
     "data": {
      "text/plain": [
       "Index(['ap090', 'c0044', 'd0031', 'b0007', 'd0009', 'c0031', 'a8404', 'c0019',\n",
       "       'd0027', 'c9008', 'd2112', 'd0012', 'c0015', 'month', 'c0039_K6419',\n",
       "       'c0039_K6499', 'c0039_K6512', 'c0039_K6619', 'c0039_K6622',\n",
       "       'c0039_K_others'],\n",
       "      dtype='object')"
      ]
     },
     "execution_count": 59,
     "metadata": {},
     "output_type": "execute_result"
    }
   ],
   "source": [
    "df1_intrum_mdldu.columns"
   ]
  },
  {
   "cell_type": "code",
   "execution_count": 60,
   "id": "9b0c22c0-68b1-4d21-a128-75d6573ae0e7",
   "metadata": {},
   "outputs": [],
   "source": [
    "feature_namesf = ['c0044', 'd0031', 'b0007', 'c0031', 'a8404', 'c0019',\n",
    "       'd0027', 'c9008', 'd2112', 'd0012', 'month', 'c0039_K6419',\n",
    "       'c0039_K6499', 'c0039_K6512', 'c0039_K6619', 'c0039_K6622',\n",
    "       'c0039_K_others']"
   ]
  },
  {
   "cell_type": "markdown",
   "id": "52d8bf46-5d32-4806-8a42-5c061520f318",
   "metadata": {},
   "source": [
    "####  <span style=\"color:#28BAE5\"> \"X\" and \"Y\" Arrays  <a name=\"id3\"></a>"
   ]
  },
  {
   "cell_type": "code",
   "execution_count": 61,
   "id": "77838740-d844-40e1-8c72-06bf8027271c",
   "metadata": {},
   "outputs": [
    {
     "data": {
      "text/plain": [
       "((30000, 17), (30000,))"
      ]
     },
     "execution_count": 61,
     "metadata": {},
     "output_type": "execute_result"
    }
   ],
   "source": [
    "X = df1_intrum_mdldu[feature_namesf].values\n",
    "y = df_intrum['target'].values\n",
    "X.shape, y.shape"
   ]
  },
  {
   "cell_type": "markdown",
   "id": "e5d230aa-5c6b-43eb-8d68-f71e3d6577ec",
   "metadata": {},
   "source": [
    "####  <span style=\"color:#28BAE5\"> Variables Normalization<a name=\"id3\"></a>"
   ]
  },
  {
   "cell_type": "code",
   "execution_count": 62,
   "id": "c8f239a9-a7cd-485e-aae1-359eea6731e8",
   "metadata": {},
   "outputs": [],
   "source": [
    "from sklearn.preprocessing import MinMaxScaler\n",
    "MMS = MinMaxScaler()\n",
    "X2 = MMS.fit_transform(X)"
   ]
  },
  {
   "cell_type": "markdown",
   "id": "99af1510-be5c-4511-a18c-3d6c832a3465",
   "metadata": {},
   "source": [
    "###  <span style=\"color:#67bf5c\"> Validation = Train and Test <a name=\"id3\"></a>"
   ]
  },
  {
   "cell_type": "code",
   "execution_count": 63,
   "id": "467839c7-79db-440d-bf6e-9a05fc95740e",
   "metadata": {},
   "outputs": [
    {
     "name": "stdout",
     "output_type": "stream",
     "text": [
      "X_train shape: (21375, 17)\n",
      "y_train shape: (21375,)\n",
      "X_test shape: (1500, 17)\n",
      "y_test shape: (1500,)\n",
      "X_val shape: (7125, 17)\n",
      "y_val shape: (7125,)\n"
     ]
    }
   ],
   "source": [
    "from sklearn.model_selection import train_test_split\n",
    "\n",
    "# set aside 10% of train and test data for evaluation\n",
    "X_train, X_test, y_train, y_test = train_test_split(X2, y,\n",
    "    test_size=0.05, shuffle = True, random_state = 8, stratify = y)\n",
    "\n",
    "# the validation set\n",
    "X_train, X_val, y_train, y_val = train_test_split(X_train, y_train, \n",
    "    test_size=0.25, random_state= 8, stratify = y_train)\n",
    "\n",
    "\n",
    "print(\"X_train shape: {}\".format(X_train.shape))\n",
    "print(\"y_train shape: {}\".format(y_train.shape))\n",
    "print(\"X_test shape: {}\".format(X_test.shape))\n",
    "print(\"y_test shape: {}\".format(y_test.shape))\n",
    "print(\"X_val shape: {}\".format(X_val.shape))\n",
    "print(\"y_val shape: {}\".format(y_val.shape))"
   ]
  },
  {
   "cell_type": "markdown",
   "id": "0c14432e-ac4c-4d5d-b098-da1ed5869df1",
   "metadata": {},
   "source": [
    "#### Exporting the dataset splited for next steps on the models"
   ]
  },
  {
   "cell_type": "code",
   "execution_count": 64,
   "id": "a7cce388-4d01-4937-8558-7bad2bf79049",
   "metadata": {},
   "outputs": [],
   "source": [
    "savetxt((config_output + \"X_train.csv\"), X_train, delimiter=',')\n",
    "savetxt((config_output + \"y_train.csv\"), y_train, delimiter=',')\n",
    "savetxt((config_output + \"X_test.csv\"), X_test, delimiter=',')\n",
    "savetxt((config_output + \"y_test.csv\"), y_test, delimiter=',')\n",
    "savetxt((config_output + \"X_val.csv\"), X_val, delimiter=',')\n",
    "savetxt((config_output + \"y_val.csv\"), y_val, delimiter=',')"
   ]
  }
 ],
 "metadata": {
  "kernelspec": {
   "display_name": "Python 3 (ipykernel)",
   "language": "python",
   "name": "python3"
  },
  "language_info": {
   "codemirror_mode": {
    "name": "ipython",
    "version": 3
   },
   "file_extension": ".py",
   "mimetype": "text/x-python",
   "name": "python",
   "nbconvert_exporter": "python",
   "pygments_lexer": "ipython3",
   "version": "3.9.9"
  }
 },
 "nbformat": 4,
 "nbformat_minor": 5
}
