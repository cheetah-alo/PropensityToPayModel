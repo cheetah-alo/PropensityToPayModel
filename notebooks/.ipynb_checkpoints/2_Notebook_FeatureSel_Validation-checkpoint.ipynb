{
 "cells": [
  {
   "attachments": {},
   "cell_type": "markdown",
   "id": "fc07f5f8",
   "metadata": {},
   "source": [
    "\n",
    "\n",
    "# <span style=\"color:#993063\"> Propensity To Pay Model <a name=\"id3\"></a>\n",
    "\n",
    "### Author: Jacky Barraza\n",
    "\n",
    "### Notebook 2/3\n",
    "    \n",
    "The following report describes both my approach, method, and results to address the Intrum – Home Quiz Challenge, when exploring options for future selection for modelling purpose. \n",
    "    \n"
   ]
  },
  {
   "cell_type": "markdown",
   "id": "5b0bd1f7",
   "metadata": {},
   "source": [
    "#  <span style=\"color:#E8846F\"> Setting the tools <a name=\"id3\"></a>"
   ]
  },
  {
   "cell_type": "markdown",
   "id": "8b413b14",
   "metadata": {},
   "source": [
    "### Paths"
   ]
  },
  {
   "cell_type": "code",
   "execution_count": 1,
   "id": "62a165b6",
   "metadata": {},
   "outputs": [
    {
     "name": "stdout",
     "output_type": "stream",
     "text": [
      "My current working directory is /Users/jackyb/Projects/Lyon_Ds/PropensityToPayModel/notebooks\n"
     ]
    }
   ],
   "source": [
    "import os\n",
    "print(\"My current working directory is\", os.getcwd())"
   ]
  },
  {
   "cell_type": "code",
   "execution_count": 2,
   "id": "ba654244",
   "metadata": {},
   "outputs": [
    {
     "data": {
      "text/plain": [
       "'/Users/jackyb/Projects/Lyon_Ds/PropensityToPayModel/data/processed/df_clean.csv'"
      ]
     },
     "execution_count": 2,
     "metadata": {},
     "output_type": "execute_result"
    }
   ],
   "source": [
    "config_input = '/Users/jackyb/Projects/Lyon_Ds/PropensityToPayModel/data/processed/'\n",
    "\n",
    "config_output = '/Users/jackyb/Projects/Lyon_Ds/PropensityToPayModel/data/output/'\n",
    "\n",
    "DATA = config_input + \"df_clean.csv\"\n",
    "DATA"
   ]
  },
  {
   "cell_type": "markdown",
   "id": "0ac0c7fe",
   "metadata": {},
   "source": [
    "### Libraries"
   ]
  },
  {
   "cell_type": "code",
   "execution_count": 3,
   "id": "82f3edbb",
   "metadata": {},
   "outputs": [],
   "source": [
    "import pandas\n",
    "import numpy\n",
    "import matplotlib.pyplot as plt\n",
    "import seaborn as sns\n",
    "from numpy import savetxt\n",
    "\n",
    "from sklearn.feature_selection import VarianceThreshold\n",
    "from sklearn.preprocessing import MinMaxScaler\n",
    "\n",
    "\n",
    "from sklearn.model_selection import train_test_split\n",
    "\n",
    "\n",
    "import warnings \n",
    "pandas.set_option('display.max_columns', 1000)\n",
    "pandas.set_option('display.max_rows', 1000)\n",
    "warnings.filterwarnings('ignore')"
   ]
  },
  {
   "cell_type": "markdown",
   "id": "997df73c",
   "metadata": {},
   "source": [
    "### General Variables"
   ]
  },
  {
   "cell_type": "code",
   "execution_count": 4,
   "id": "5c159db3",
   "metadata": {},
   "outputs": [],
   "source": [
    "#general\n",
    "PERCENTILE = [.25, .50, .75]\n",
    "INCLUDE = ['object', 'float', 'int']\n",
    "NUMERICS = ['int16', 'int32', 'int64', 'float16', 'float32', 'float64']\n",
    "\n",
    "\n",
    "#palette colors\n",
    "SETCOL = [\"windows blue\", \"amber\", \"greyish\", \"faded green\", \"dusty purple\"]\n",
    "SETCOL1 = [\"#6dccda\", \"#cdcc5d\", \"#a2a2a2\", \"#ed97ca\", \"#a8786e\", \"#ad8bc9\", \"#ed665d\", \"#67bf5c\", \"#ff9e4a\", \"#729ece\"]\n",
    "SETCOL2 = [\"#ed665d\", \"#67bf5c\", \"#ff9e4a\", \"#729ece\", \"#ad8bc9\"]\n",
    "SETCOL3 = [ \"#729ece\", \"#67bf5c\", \"#ff9e4a\", \"#ad8bc9\", \"#ed665d\"]\n",
    "SETCOL4 = [ \"#6dccda\", \"#ed97ca\", \"#729ece\", \"#ad8bc9\", \"#ff9e4a\"]"
   ]
  },
  {
   "cell_type": "markdown",
   "id": "80784721",
   "metadata": {},
   "source": [
    "### Dataframe Definition"
   ]
  },
  {
   "cell_type": "code",
   "execution_count": 5,
   "id": "792ff6de",
   "metadata": {},
   "outputs": [],
   "source": [
    "def dataframe_load_csv(filename):\n",
    "    \"\"\"\n",
    "    Loading a csv as pandas dataframe\n",
    "    :param filename: path where the file is located\n",
    "    :return: a dataframe\n",
    "    \"\"\"\n",
    "    df = (pandas.read_csv(filename, encoding='utf-8-sig'))\n",
    "    return df"
   ]
  },
  {
   "cell_type": "code",
   "execution_count": 8,
   "id": "e3518bb6",
   "metadata": {},
   "outputs": [
    {
     "data": {
      "text/plain": [
       "'/Users/jackyb/Projects/Lyon_Ds/PropensityToPayModel/data/processed/df_clean.csv'"
      ]
     },
     "execution_count": 8,
     "metadata": {},
     "output_type": "execute_result"
    }
   ],
   "source": [
    "DATA"
   ]
  },
  {
   "cell_type": "code",
   "execution_count": 9,
   "id": "15c4f0b0",
   "metadata": {},
   "outputs": [],
   "source": [
    "df = dataframe_load_csv(DATA)"
   ]
  },
  {
   "cell_type": "code",
   "execution_count": 10,
   "id": "e8fc8606",
   "metadata": {},
   "outputs": [
    {
     "data": {
      "text/html": [
       "<div>\n",
       "<style scoped>\n",
       "    .dataframe tbody tr th:only-of-type {\n",
       "        vertical-align: middle;\n",
       "    }\n",
       "\n",
       "    .dataframe tbody tr th {\n",
       "        vertical-align: top;\n",
       "    }\n",
       "\n",
       "    .dataframe thead th {\n",
       "        text-align: right;\n",
       "    }\n",
       "</style>\n",
       "<table border=\"1\" class=\"dataframe\">\n",
       "  <thead>\n",
       "    <tr style=\"text-align: right;\">\n",
       "      <th></th>\n",
       "      <th>kdate</th>\n",
       "      <th>Unnamed: 0</th>\n",
       "      <th>ct090</th>\n",
       "      <th>ap090</th>\n",
       "      <th>c0039</th>\n",
       "      <th>c0044</th>\n",
       "      <th>d0031</th>\n",
       "      <th>b0007</th>\n",
       "      <th>d0009</th>\n",
       "      <th>c0031</th>\n",
       "      <th>a8404</th>\n",
       "      <th>c0019</th>\n",
       "      <th>d0027</th>\n",
       "      <th>c9008</th>\n",
       "      <th>d2112</th>\n",
       "      <th>d0012</th>\n",
       "      <th>c0015</th>\n",
       "      <th>month</th>\n",
       "    </tr>\n",
       "  </thead>\n",
       "  <tbody>\n",
       "    <tr>\n",
       "      <th>0</th>\n",
       "      <td>2017-08-12</td>\n",
       "      <td>0</td>\n",
       "      <td>0.0</td>\n",
       "      <td>0.0</td>\n",
       "      <td>K6622</td>\n",
       "      <td>1</td>\n",
       "      <td>2.0</td>\n",
       "      <td>0.00</td>\n",
       "      <td>238.38</td>\n",
       "      <td>2.0</td>\n",
       "      <td>0.18</td>\n",
       "      <td>98.0</td>\n",
       "      <td>0.0</td>\n",
       "      <td>49.0</td>\n",
       "      <td>0.0</td>\n",
       "      <td>1</td>\n",
       "      <td>222.69</td>\n",
       "      <td>8</td>\n",
       "    </tr>\n",
       "    <tr>\n",
       "      <th>1</th>\n",
       "      <td>2017-02-03</td>\n",
       "      <td>1</td>\n",
       "      <td>0.0</td>\n",
       "      <td>0.0</td>\n",
       "      <td>K6512</td>\n",
       "      <td>2</td>\n",
       "      <td>NaN</td>\n",
       "      <td>210.53</td>\n",
       "      <td>0.00</td>\n",
       "      <td>5.0</td>\n",
       "      <td>0.25</td>\n",
       "      <td>109.0</td>\n",
       "      <td>2.0</td>\n",
       "      <td>51.0</td>\n",
       "      <td>0.0</td>\n",
       "      <td>2</td>\n",
       "      <td>212.72</td>\n",
       "      <td>2</td>\n",
       "    </tr>\n",
       "    <tr>\n",
       "      <th>2</th>\n",
       "      <td>2017-02-17</td>\n",
       "      <td>2</td>\n",
       "      <td>0.0</td>\n",
       "      <td>0.0</td>\n",
       "      <td>K6512</td>\n",
       "      <td>3</td>\n",
       "      <td>1.0</td>\n",
       "      <td>20.00</td>\n",
       "      <td>0.00</td>\n",
       "      <td>2.0</td>\n",
       "      <td>0.00</td>\n",
       "      <td>748.0</td>\n",
       "      <td>0.0</td>\n",
       "      <td>48.0</td>\n",
       "      <td>0.0</td>\n",
       "      <td>3</td>\n",
       "      <td>56.84</td>\n",
       "      <td>2</td>\n",
       "    </tr>\n",
       "    <tr>\n",
       "      <th>3</th>\n",
       "      <td>2017-09-18</td>\n",
       "      <td>3</td>\n",
       "      <td>0.0</td>\n",
       "      <td>0.0</td>\n",
       "      <td>K6622</td>\n",
       "      <td>4</td>\n",
       "      <td>NaN</td>\n",
       "      <td>20.00</td>\n",
       "      <td>54.14</td>\n",
       "      <td>3.0</td>\n",
       "      <td>1.00</td>\n",
       "      <td>8.0</td>\n",
       "      <td>0.0</td>\n",
       "      <td>27.0</td>\n",
       "      <td>0.0</td>\n",
       "      <td>4</td>\n",
       "      <td>463.15</td>\n",
       "      <td>9</td>\n",
       "    </tr>\n",
       "  </tbody>\n",
       "</table>\n",
       "</div>"
      ],
      "text/plain": [
       "        kdate  Unnamed: 0  ct090  ap090  c0039  c0044  d0031   b0007   d0009  \\\n",
       "0  2017-08-12           0    0.0    0.0  K6622      1    2.0    0.00  238.38   \n",
       "1  2017-02-03           1    0.0    0.0  K6512      2    NaN  210.53    0.00   \n",
       "2  2017-02-17           2    0.0    0.0  K6512      3    1.0   20.00    0.00   \n",
       "3  2017-09-18           3    0.0    0.0  K6622      4    NaN   20.00   54.14   \n",
       "\n",
       "   c0031  a8404  c0019  d0027  c9008  d2112  d0012   c0015  month  \n",
       "0    2.0   0.18   98.0    0.0   49.0    0.0      1  222.69      8  \n",
       "1    5.0   0.25  109.0    2.0   51.0    0.0      2  212.72      2  \n",
       "2    2.0   0.00  748.0    0.0   48.0    0.0      3   56.84      2  \n",
       "3    3.0   1.00    8.0    0.0   27.0    0.0      4  463.15      9  "
      ]
     },
     "execution_count": 10,
     "metadata": {},
     "output_type": "execute_result"
    }
   ],
   "source": [
    "df.head(4)"
   ]
  },
  {
   "cell_type": "code",
   "execution_count": 11,
   "id": "0a244ae6",
   "metadata": {},
   "outputs": [
    {
     "data": {
      "text/plain": [
       "['kdate',\n",
       " 'Unnamed: 0',\n",
       " 'ct090',\n",
       " 'ap090',\n",
       " 'c0039',\n",
       " 'c0044',\n",
       " 'd0031',\n",
       " 'b0007',\n",
       " 'd0009',\n",
       " 'c0031',\n",
       " 'a8404',\n",
       " 'c0019',\n",
       " 'd0027',\n",
       " 'c9008',\n",
       " 'd2112',\n",
       " 'd0012',\n",
       " 'c0015',\n",
       " 'month']"
      ]
     },
     "execution_count": 11,
     "metadata": {},
     "output_type": "execute_result"
    }
   ],
   "source": [
    "VAR = list(df.columns)\n",
    "VAR"
   ]
  },
  {
   "cell_type": "code",
   "execution_count": 12,
   "id": "9506fce8",
   "metadata": {},
   "outputs": [],
   "source": [
    "def grouping_target(group):\n",
    "    if group ==  0:\n",
    "        return  0\n",
    "    else:\n",
    "        return 1"
   ]
  },
  {
   "cell_type": "code",
   "execution_count": 13,
   "id": "085755c6",
   "metadata": {},
   "outputs": [],
   "source": [
    "df['target'] = df['ct090']"
   ]
  },
  {
   "cell_type": "code",
   "execution_count": 14,
   "id": "cb43fe88",
   "metadata": {},
   "outputs": [],
   "source": [
    "df1 = df.copy()\n",
    "df1['target'] = df['target'].apply(grouping_target)"
   ]
  },
  {
   "cell_type": "code",
   "execution_count": 15,
   "id": "a7324954",
   "metadata": {},
   "outputs": [
    {
     "data": {
      "image/png": "[encoded data removed]",
      "text/plain": [
       "<Figure size 1296x360 with 1 Axes>"
      ]
     },
     "metadata": {
      "needs_background": "light"
     },
     "output_type": "display_data"
    }
   ],
   "source": [
    "fig, ax = plt.subplots(figsize=(18, 5))\n",
    "sns.set(font_scale=1.8)\n",
    "sns.set_style('whitegrid')\n",
    "\n",
    "ax = sns.countplot(y=\"target\", data=df, alpha=0.6, palette=\"Set2\")\n",
    "plt.title('Distribucion del target')\n",
    "plt.xlabel('Numero de muestras')\n",
    "total = len(df['target'])\n",
    "for p in ax.patches:\n",
    "        percentage = '{:.1f}%'.format(100 * p.get_width()/total)\n",
    "        x = p.get_x() + p.get_width() + 0.02\n",
    "        y = p.get_y() + p.get_height()/2\n",
    "        ax.annotate(percentage, (x, y))\n",
    "\n",
    "plt.show()"
   ]
  },
  {
   "cell_type": "markdown",
   "id": "f52101f4",
   "metadata": {},
   "source": [
    ">Observations:\n",
    ">\n",
    ">This is showing the unbalanced dataset. This will be taking into account in the modeling phase.\n",
    "    "
   ]
  },
  {
   "cell_type": "code",
   "execution_count": 16,
   "id": "4514cde9",
   "metadata": {},
   "outputs": [
    {
     "data": {
      "text/plain": [
       "Index(['kdate', 'Unnamed: 0', 'ct090', 'ap090', 'c0039', 'c0044', 'd0031',\n",
       "       'b0007', 'd0009', 'c0031', 'a8404', 'c0019', 'd0027', 'c9008', 'd2112',\n",
       "       'd0012', 'c0015', 'month', 'target'],\n",
       "      dtype='object')"
      ]
     },
     "execution_count": 16,
     "metadata": {},
     "output_type": "execute_result"
    }
   ],
   "source": [
    "df.columns"
   ]
  },
  {
   "cell_type": "code",
   "execution_count": 17,
   "id": "bdc33d2f",
   "metadata": {},
   "outputs": [
    {
     "data": {
      "text/plain": [
       "(30000, 16)"
      ]
     },
     "execution_count": 17,
     "metadata": {},
     "output_type": "execute_result"
    }
   ],
   "source": [
    "df_check = df.filter(['ap090', 'c0039', 'c0044', 'd0031', 'b0007', 'd0009',\n",
    "       'c0031', 'a8404', 'c0019', 'd0027', 'c9008', 'd2112', 'd0012', 'c0015',\n",
    "       'month', 'target'])\n",
    "df_check.shape"
   ]
  },
  {
   "cell_type": "code",
   "execution_count": 18,
   "id": "98aa9d60",
   "metadata": {},
   "outputs": [],
   "source": [
    "def columns_as_list(df):\n",
    "    \"\"\"\n",
    "    Variables as a list by type\n",
    "    :param df: dataframe\n",
    "    :return: three list of variables\n",
    "    \"\"\"\n",
    "    all_var = list(df.columns)\n",
    "    print(\"----------------------------------------------------------------\")\n",
    "    print(\"List of all variables: \\n\")\n",
    "    print(all_var)\n",
    "    obj_var = list(df.select_dtypes(['object']).columns)\n",
    "    if obj_var: \n",
    "        print(\"----------------------------------------------------------------\")\n",
    "        print(\"List of object variabless: \\n\")\n",
    "        print(obj_var)\n",
    "    \n",
    "    num_var = list(df.select_dtypes(include=NUMERICS))\n",
    "    if num_var: \n",
    "        print(\"----------------------------------------------------------------\")\n",
    "        print(\"List of numeric variable: \\n\")\n",
    "        print(num_var)\n",
    "    \n",
    "    return all_var, obj_var, num_var "
   ]
  },
  {
   "cell_type": "code",
   "execution_count": 20,
   "id": "fe0afebf",
   "metadata": {},
   "outputs": [
    {
     "name": "stdout",
     "output_type": "stream",
     "text": [
      "----------------------------------------------------------------\n",
      "List of all variables: \n",
      "\n",
      "['ap090', 'c0039', 'c0044', 'd0031', 'b0007', 'd0009', 'c0031', 'a8404', 'c0019', 'd0027', 'c9008', 'd2112', 'd0012', 'c0015', 'month', 'target']\n",
      "----------------------------------------------------------------\n",
      "List of object variabless: \n",
      "\n",
      "['c0039']\n",
      "----------------------------------------------------------------\n",
      "List of numeric variable: \n",
      "\n",
      "['ap090', 'c0044', 'd0031', 'b0007', 'd0009', 'c0031', 'a8404', 'c0019', 'd0027', 'c9008', 'd2112', 'd0012', 'c0015', 'month', 'target']\n"
     ]
    }
   ],
   "source": [
    "all_var_metadf, obj_var_metadf, num_var_metadf  = columns_as_list(df_check)"
   ]
  },
  {
   "cell_type": "markdown",
   "id": "64847e07",
   "metadata": {},
   "source": [
    "###  <span style=\"color:#67bf5c\"> Definicion de X y Y para los modelos <a name=\"id3\"></a>"
   ]
  },
  {
   "cell_type": "code",
   "execution_count": 29,
   "id": "86d83a0e",
   "metadata": {},
   "outputs": [
    {
     "data": {
      "text/plain": [
       "(30000, 16)"
      ]
     },
     "execution_count": 29,
     "metadata": {},
     "output_type": "execute_result"
    }
   ],
   "source": [
    "df1_check = df_check.copy()\n",
    "df1_check.shape"
   ]
  },
  {
   "cell_type": "code",
   "execution_count": 30,
   "id": "5d382510",
   "metadata": {},
   "outputs": [
    {
     "data": {
      "text/html": [
       "<div>\n",
       "<style scoped>\n",
       "    .dataframe tbody tr th:only-of-type {\n",
       "        vertical-align: middle;\n",
       "    }\n",
       "\n",
       "    .dataframe tbody tr th {\n",
       "        vertical-align: top;\n",
       "    }\n",
       "\n",
       "    .dataframe thead th {\n",
       "        text-align: right;\n",
       "    }\n",
       "</style>\n",
       "<table border=\"1\" class=\"dataframe\">\n",
       "  <thead>\n",
       "    <tr style=\"text-align: right;\">\n",
       "      <th></th>\n",
       "      <th>ap090</th>\n",
       "      <th>c0044</th>\n",
       "      <th>d0031</th>\n",
       "      <th>b0007</th>\n",
       "      <th>d0009</th>\n",
       "      <th>c0031</th>\n",
       "      <th>a8404</th>\n",
       "      <th>c0019</th>\n",
       "      <th>d0027</th>\n",
       "      <th>c9008</th>\n",
       "      <th>d2112</th>\n",
       "      <th>d0012</th>\n",
       "      <th>c0015</th>\n",
       "      <th>month</th>\n",
       "      <th>target</th>\n",
       "    </tr>\n",
       "  </thead>\n",
       "  <tbody>\n",
       "    <tr>\n",
       "      <th>0</th>\n",
       "      <td>0.0</td>\n",
       "      <td>1</td>\n",
       "      <td>2.0</td>\n",
       "      <td>0.00</td>\n",
       "      <td>238.38</td>\n",
       "      <td>2.0</td>\n",
       "      <td>0.18</td>\n",
       "      <td>98.0</td>\n",
       "      <td>0.0</td>\n",
       "      <td>49.0</td>\n",
       "      <td>0.0</td>\n",
       "      <td>1</td>\n",
       "      <td>222.69</td>\n",
       "      <td>8</td>\n",
       "      <td>0.0</td>\n",
       "    </tr>\n",
       "    <tr>\n",
       "      <th>1</th>\n",
       "      <td>0.0</td>\n",
       "      <td>2</td>\n",
       "      <td>NaN</td>\n",
       "      <td>210.53</td>\n",
       "      <td>0.00</td>\n",
       "      <td>5.0</td>\n",
       "      <td>0.25</td>\n",
       "      <td>109.0</td>\n",
       "      <td>2.0</td>\n",
       "      <td>51.0</td>\n",
       "      <td>0.0</td>\n",
       "      <td>2</td>\n",
       "      <td>212.72</td>\n",
       "      <td>2</td>\n",
       "      <td>0.0</td>\n",
       "    </tr>\n",
       "    <tr>\n",
       "      <th>2</th>\n",
       "      <td>0.0</td>\n",
       "      <td>3</td>\n",
       "      <td>1.0</td>\n",
       "      <td>20.00</td>\n",
       "      <td>0.00</td>\n",
       "      <td>2.0</td>\n",
       "      <td>0.00</td>\n",
       "      <td>748.0</td>\n",
       "      <td>0.0</td>\n",
       "      <td>48.0</td>\n",
       "      <td>0.0</td>\n",
       "      <td>3</td>\n",
       "      <td>56.84</td>\n",
       "      <td>2</td>\n",
       "      <td>0.0</td>\n",
       "    </tr>\n",
       "    <tr>\n",
       "      <th>3</th>\n",
       "      <td>0.0</td>\n",
       "      <td>4</td>\n",
       "      <td>NaN</td>\n",
       "      <td>20.00</td>\n",
       "      <td>54.14</td>\n",
       "      <td>3.0</td>\n",
       "      <td>1.00</td>\n",
       "      <td>8.0</td>\n",
       "      <td>0.0</td>\n",
       "      <td>27.0</td>\n",
       "      <td>0.0</td>\n",
       "      <td>4</td>\n",
       "      <td>463.15</td>\n",
       "      <td>9</td>\n",
       "      <td>0.0</td>\n",
       "    </tr>\n",
       "  </tbody>\n",
       "</table>\n",
       "</div>"
      ],
      "text/plain": [
       "   ap090  c0044  d0031   b0007   d0009  c0031  a8404  c0019  d0027  c9008  \\\n",
       "0    0.0      1    2.0    0.00  238.38    2.0   0.18   98.0    0.0   49.0   \n",
       "1    0.0      2    NaN  210.53    0.00    5.0   0.25  109.0    2.0   51.0   \n",
       "2    0.0      3    1.0   20.00    0.00    2.0   0.00  748.0    0.0   48.0   \n",
       "3    0.0      4    NaN   20.00   54.14    3.0   1.00    8.0    0.0   27.0   \n",
       "\n",
       "   d2112  d0012   c0015  month  target  \n",
       "0    0.0      1  222.69      8     0.0  \n",
       "1    0.0      2  212.72      2     0.0  \n",
       "2    0.0      3   56.84      2     0.0  \n",
       "3    0.0      4  463.15      9     0.0  "
      ]
     },
     "execution_count": 30,
     "metadata": {},
     "output_type": "execute_result"
    }
   ],
   "source": [
    "df_num_var = df1_check.copy()\n",
    "df_num_var.drop(['c0039'], axis = 1, inplace = True)\n",
    "df_num_var.head(4)"
   ]
  },
  {
   "cell_type": "code",
   "execution_count": 31,
   "id": "8a4f436c",
   "metadata": {},
   "outputs": [],
   "source": [
    "df1_check.drop(['target'], axis =1, inplace=True)"
   ]
  },
  {
   "cell_type": "code",
   "execution_count": 32,
   "id": "1f6287c6",
   "metadata": {},
   "outputs": [
    {
     "data": {
      "text/plain": [
       "(30000, 20)"
      ]
     },
     "execution_count": 32,
     "metadata": {},
     "output_type": "execute_result"
    }
   ],
   "source": [
    "df1_check_mdldu = pandas.get_dummies(df1_check)\n",
    "df1_check_mdldu.shape"
   ]
  },
  {
   "cell_type": "code",
   "execution_count": 33,
   "id": "8f4d30d9",
   "metadata": {},
   "outputs": [
    {
     "data": {
      "text/plain": [
       "['ap090',\n",
       " 'c0044',\n",
       " 'd0031',\n",
       " 'b0007',\n",
       " 'd0009',\n",
       " 'c0031',\n",
       " 'a8404',\n",
       " 'c0019',\n",
       " 'd0027',\n",
       " 'c9008',\n",
       " 'd2112',\n",
       " 'd0012',\n",
       " 'c0015',\n",
       " 'month',\n",
       " 'c0039_K6419',\n",
       " 'c0039_K6499',\n",
       " 'c0039_K6512',\n",
       " 'c0039_K6619',\n",
       " 'c0039_K6622',\n",
       " 'c0039_K_others']"
      ]
     },
     "execution_count": 33,
     "metadata": {},
     "output_type": "execute_result"
    }
   ],
   "source": [
    "feature_names = list(df1_check_mdldu.columns)\n",
    "feature_names"
   ]
  },
  {
   "cell_type": "markdown",
   "id": "9cec0b6b",
   "metadata": {},
   "source": [
    "####  <span style=\"color:#28BAE5\"> X y Y Arrays  <a name=\"id3\"></a>"
   ]
  },
  {
   "cell_type": "code",
   "execution_count": 34,
   "id": "41b635f8",
   "metadata": {},
   "outputs": [
    {
     "data": {
      "text/plain": [
       "((30000, 20), (30000,))"
      ]
     },
     "execution_count": 34,
     "metadata": {},
     "output_type": "execute_result"
    }
   ],
   "source": [
    "X = df1_check_mdldu[feature_names].values\n",
    "y = df_check['target'].values\n",
    "X.shape, y.shape"
   ]
  },
  {
   "cell_type": "markdown",
   "id": "6e5a1f26",
   "metadata": {},
   "source": [
    "####  <span style=\"color:#28BAE5\"> Variables Normalization<a name=\"id3\"></a>"
   ]
  },
  {
   "cell_type": "code",
   "execution_count": 35,
   "id": "de76fd3c",
   "metadata": {},
   "outputs": [],
   "source": [
    "MMS = MinMaxScaler()\n",
    "X2 = MMS.fit_transform(X)"
   ]
  },
  {
   "cell_type": "markdown",
   "id": "cfd58d15",
   "metadata": {},
   "source": [
    "###  <span style=\"color:#67bf5c\"> Feature Selection <a name=\"id3\"></a>"
   ]
  },
  {
   "cell_type": "markdown",
   "id": "90bd63db",
   "metadata": {},
   "source": [
    "####  <span style=\"color:#28BAE5\"> Selección univariante de características  <a name=\"id3\"></a>"
   ]
  },
  {
   "cell_type": "code",
   "execution_count": 36,
   "id": "650c55c0",
   "metadata": {},
   "outputs": [
    {
     "data": {
      "text/plain": [
       "(30000, 20)"
      ]
     },
     "execution_count": 36,
     "metadata": {},
     "output_type": "execute_result"
    }
   ],
   "source": [
    "vt_feature_selector = VarianceThreshold(threshold=0)\n",
    "vt_feature_selector.fit(X2)\n",
    "df_var_select = df1_check_mdldu[df1_check_mdldu.columns[vt_feature_selector.get_support(indices=True)]]\n",
    "feature_names2 = df_var_select.columns.to_list()\n",
    "df_var_select.shape"
   ]
  },
  {
   "cell_type": "code",
   "execution_count": 37,
   "id": "5def2b36",
   "metadata": {},
   "outputs": [
    {
     "data": {
      "image/png": "[encoded data removed]",
      "text/plain": [
       "<Figure size 1440x1080 with 1 Axes>"
      ]
     },
     "metadata": {},
     "output_type": "display_data"
    }
   ],
   "source": [
    "fig, ax = plt.subplots(figsize = (20, 15))\n",
    "\n",
    "sns.set(font_scale=2.2, palette=\"Set2\")\n",
    "ax.barh(feature_names2, vt_feature_selector.variances_)\n",
    "plt.show()"
   ]
  },
  {
   "cell_type": "markdown",
   "id": "cd9c6143",
   "metadata": {},
   "source": [
    ">#### Observations:\n",
    ">\n",
    ">The variable c0015, ap090 and d009 have 0 variance and will be exclude of the model. Variables with a higher variance may contain more useful information. "
   ]
  },
  {
   "cell_type": "code",
   "execution_count": 38,
   "id": "62ea6077",
   "metadata": {},
   "outputs": [
    {
     "data": {
      "text/plain": [
       "Index(['ap090', 'c0044', 'd0031', 'b0007', 'd0009', 'c0031', 'a8404', 'c0019',\n",
       "       'd0027', 'c9008', 'd2112', 'd0012', 'c0015', 'month', 'c0039_K6419',\n",
       "       'c0039_K6499', 'c0039_K6512', 'c0039_K6619', 'c0039_K6622',\n",
       "       'c0039_K_others'],\n",
       "      dtype='object')"
      ]
     },
     "execution_count": 38,
     "metadata": {},
     "output_type": "execute_result"
    }
   ],
   "source": [
    "df1_check_mdldu.columns"
   ]
  },
  {
   "cell_type": "code",
   "execution_count": 39,
   "id": "4c8a07f2",
   "metadata": {},
   "outputs": [],
   "source": [
    "feature_namesf = ['c0044', 'd0031', 'b0007', 'c0031', 'a8404', 'c0019',\n",
    "       'd0027', 'c9008', 'd2112', 'd0012', 'month', 'c0039_K6419',\n",
    "       'c0039_K6499', 'c0039_K6512', 'c0039_K6619', 'c0039_K6622',\n",
    "       'c0039_K_others']"
   ]
  },
  {
   "cell_type": "markdown",
   "id": "c62899d9",
   "metadata": {},
   "source": [
    "####  <span style=\"color:#28BAE5\"> \"X\" and \"Y\" Arrays  <a name=\"id3\"></a>"
   ]
  },
  {
   "cell_type": "code",
   "execution_count": 40,
   "id": "6c16ff13",
   "metadata": {},
   "outputs": [
    {
     "data": {
      "text/plain": [
       "((30000, 17), (30000,))"
      ]
     },
     "execution_count": 40,
     "metadata": {},
     "output_type": "execute_result"
    }
   ],
   "source": [
    "X = df1_check_mdldu[feature_namesf].values\n",
    "y = df_check['target'].values\n",
    "X.shape, y.shape"
   ]
  },
  {
   "cell_type": "markdown",
   "id": "e75b951b",
   "metadata": {},
   "source": [
    "####  <span style=\"color:#28BAE5\"> Variables Normalization<a name=\"id3\"></a>"
   ]
  },
  {
   "cell_type": "code",
   "execution_count": 41,
   "id": "021919cb",
   "metadata": {},
   "outputs": [],
   "source": [
    "from sklearn.preprocessing import MinMaxScaler\n",
    "MMS = MinMaxScaler()\n",
    "X2 = MMS.fit_transform(X)"
   ]
  },
  {
   "cell_type": "markdown",
   "id": "f1f2abb5",
   "metadata": {},
   "source": [
    "###  <span style=\"color:#67bf5c\"> Validation = Train and Test <a name=\"id3\"></a>"
   ]
  },
  {
   "cell_type": "code",
   "execution_count": 42,
   "id": "b2f9cdd2",
   "metadata": {},
   "outputs": [
    {
     "name": "stdout",
     "output_type": "stream",
     "text": [
      "X shape: (30000, 17)\n",
      "y shape: (30000,)\n",
      "X_train shape: (21375, 17)\n",
      "X_train shape: (21375, 17)\n",
      "y_train shape: (21375,)\n",
      "X_test shape: (1500, 17)\n",
      "y_test shape: (1500,)\n",
      "X_val shape: (7125, 17)\n",
      "y_val shape: (7125,)\n"
     ]
    }
   ],
   "source": [
    "from sklearn.model_selection import train_test_split\n",
    "\n",
    "# set aside 10% of train and test data for evaluation\n",
    "X_train, X_test, y_train, y_test = train_test_split(X2, y,\n",
    "    test_size=0.05, shuffle = True, random_state = 8, stratify = y)\n",
    "\n",
    "# the validation set\n",
    "X_train, X_val, y_train, y_val = train_test_split(X_train, y_train, \n",
    "    test_size=0.25, random_state= 8, stratify = y_train)\n",
    "\n",
    "print(\"X shape: {}\".format(X.shape))\n",
    "print(\"y shape: {}\".format(y.shape))\n",
    "print(\"X_train shape: {}\".format(X_train.shape))\n",
    "print(\"X_train shape: {}\".format(X_train.shape))\n",
    "print(\"y_train shape: {}\".format(y_train.shape))\n",
    "print(\"X_test shape: {}\".format(X_test.shape))\n",
    "print(\"y_test shape: {}\".format(y_test.shape))\n",
    "print(\"X_val shape: {}\".format(X_val.shape))\n",
    "print(\"y_val shape: {}\".format(y_val.shape))"
   ]
  },
  {
   "cell_type": "markdown",
   "id": "224b44ae",
   "metadata": {},
   "source": [
    "#  <span style=\"color:#E8846F\"> Output <a name=\"id3\"></a>\n",
    "#### Exporting the dataset splited for next steps on the models"
   ]
  },
  {
   "cell_type": "code",
   "execution_count": 43,
   "id": "3b189911",
   "metadata": {},
   "outputs": [],
   "source": [
    "savetxt((config_output + \"X.csv\"), X, delimiter=',')\n",
    "savetxt((config_output + \"y.csv\"), y, delimiter=',')\n",
    "savetxt((config_output + \"X_train.csv\"), X_train, delimiter=',')\n",
    "savetxt((config_output + \"y_train.csv\"), y_train, delimiter=',')\n",
    "savetxt((config_output + \"X_test.csv\"), X_test, delimiter=',')\n",
    "savetxt((config_output + \"y_test.csv\"), y_test, delimiter=',')\n",
    "savetxt((config_output + \"X_val.csv\"), X_val, delimiter=',')\n",
    "savetxt((config_output + \"y_val.csv\"), y_val, delimiter=',')"
   ]
  }
 ],
 "metadata": {
  "kernelspec": {
   "display_name": "Python 3 (ipykernel)",
   "language": "python",
   "name": "python3"
  },
  "language_info": {
   "codemirror_mode": {
    "name": "ipython",
    "version": 3
   },
   "file_extension": ".py",
   "mimetype": "text/x-python",
   "name": "python",
   "nbconvert_exporter": "python",
   "pygments_lexer": "ipython3",
   "version": "3.9.13"
  },
  "toc": {
   "base_numbering": 1,
   "nav_menu": {},
   "number_sections": true,
   "sideBar": true,
   "skip_h1_title": false,
   "title_cell": "Table of Contents",
   "title_sidebar": "Contents",
   "toc_cell": false,
   "toc_position": {},
   "toc_section_display": true,
   "toc_window_display": false
  },
  "varInspector": {
   "cols": {
    "lenName": 16,
    "lenType": 16,
    "lenVar": 40
   },
   "kernels_config": {
    "python": {
     "delete_cmd_postfix": "",
     "delete_cmd_prefix": "del ",
     "library": "var_list.py",
     "varRefreshCmd": "print(var_dic_list())"
    },
    "r": {
     "delete_cmd_postfix": ") ",
     "delete_cmd_prefix": "rm(",
     "library": "var_list.r",
     "varRefreshCmd": "cat(var_dic_list()) "
    }
   },
   "types_to_exclude": [
    "module",
    "function",
    "builtin_function_or_method",
    "instance",
    "_Feature"
   ],
   "window_display": false
  }
 },
 "nbformat": 4,
 "nbformat_minor": 5
}
